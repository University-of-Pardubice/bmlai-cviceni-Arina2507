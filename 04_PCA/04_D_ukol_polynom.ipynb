{
 "cells": [
  {
   "cell_type": "markdown",
   "id": "efd730e4-0565-4b7e-8caf-cfe8b527b655",
   "metadata": {},
   "source": [
    "# Polynominální regrese\n",
    "\n",
    "## Úkol\n",
    "\n",
    "- Načtěte dataset s velikostmi a cenami\n",
    "- Prozkoumejte a zobrazte data\n",
    "- Vytvořte lineární model a zjistětě jaho R2\n",
    "- Vytvořte polynomiální modely s různým stupni, zjistěte jejich R2\n",
    "- Vyberte nejlepší model "
   ]
  },
  {
   "cell_type": "markdown",
   "id": "f037e435",
   "metadata": {},
   "source": [
    "# Načtení dat"
   ]
  },
  {
   "cell_type": "code",
   "execution_count": 19,
   "id": "52750eb3-4b2f-4673-b750-2f2e824da62b",
   "metadata": {
    "tags": []
   },
   "outputs": [],
   "source": [
    "import pandas as pd "
   ]
  },
  {
   "cell_type": "code",
   "execution_count": null,
   "id": "17d43105-a5d6-44a6-99a8-4d6a6af286df",
   "metadata": {
    "tags": []
   },
   "outputs": [
    {
     "name": "stderr",
     "output_type": "stream",
     "text": [
      "<>:1: SyntaxWarning: invalid escape sequence '\\d'\n",
      "<>:1: SyntaxWarning: invalid escape sequence '\\d'\n",
      "C:\\Users\\nazhm\\AppData\\Local\\Temp\\ipykernel_28684\\3190195622.py:1: SyntaxWarning: invalid escape sequence '\\d'\n",
      "  data = pd.read_csv (\"..\\dataset\\prices.csv\",  sep=';')\n"
     ]
    }
   ],
   "source": [
    "data = pd.read_csv (\"..\\dataset\\prices.csv\",  sep=';')"
   ]
  },
  {
   "cell_type": "markdown",
   "id": "9467aecc",
   "metadata": {},
   "source": [
    "# Lineární model\n",
    "- standardizujte data\n",
    "- vytvořte a natrénujte lineární model\n",
    "- zobrazte parametry modelu\n",
    "- vizualizujte lineární model\n",
    "- zobrazte skóre modelu"
   ]
  },
  {
   "cell_type": "code",
   "execution_count": 20,
   "id": "82533629",
   "metadata": {},
   "outputs": [
    {
     "name": "stdout",
     "output_type": "stream",
     "text": [
      "        Size       Price\n",
      "0   51.00000   901.18810\n",
      "1   70.36735   972.23867\n",
      "2   89.73469  1001.99394\n",
      "3  109.10204  1024.90830\n",
      "4  128.46939  1053.72491\n"
     ]
    }
   ],
   "source": [
    "# 1. Načtení dat\n",
    "data = pd.read_csv(\"../dataset/prices.csv\", sep=';')\n",
    "print(data.head())"
   ]
  },
  {
   "cell_type": "code",
   "execution_count": 21,
   "id": "b75f5504",
   "metadata": {},
   "outputs": [
    {
     "data": {
      "image/png": "[encoded data removed]",
      "text/plain": [
       "<Figure size 640x480 with 1 Axes>"
      ]
     },
     "metadata": {},
     "output_type": "display_data"
    }
   ],
   "source": [
    "# 2. Prozkoumejte a zobrazte data\n",
    "plt.scatter(data['Size'], data['Price'], label=\"Data\", color='blue')\n",
    "plt.xlabel(\"Velikost\")\n",
    "plt.ylabel(\"Cena\")\n",
    "plt.title(\"Bodový graf dat\")\n",
    "plt.legend()\n",
    "plt.show()"
   ]
  },
  {
   "cell_type": "code",
   "execution_count": null,
   "id": "7143e732",
   "metadata": {},
   "outputs": [
    {
     "ename": "TypeError",
     "evalue": "LinearRegression.__new__() missing 2 required positional arguments: 'slope' and 'intercept'",
     "output_type": "error",
     "traceback": [
      "\u001b[1;31m---------------------------------------------------------------------------\u001b[0m",
      "\u001b[1;31mTypeError\u001b[0m                                 Traceback (most recent call last)",
      "Cell \u001b[1;32mIn[26], line 10\u001b[0m\n\u001b[0;32m      7\u001b[0m X_scaled \u001b[38;5;241m=\u001b[39m scaler\u001b[38;5;241m.\u001b[39mfit_transform(data[[\u001b[38;5;124m'\u001b[39m\u001b[38;5;124mSize\u001b[39m\u001b[38;5;124m'\u001b[39m]])\n\u001b[0;32m      8\u001b[0m y \u001b[38;5;241m=\u001b[39m data[\u001b[38;5;124m'\u001b[39m\u001b[38;5;124mPrice\u001b[39m\u001b[38;5;124m'\u001b[39m]\n\u001b[1;32m---> 10\u001b[0m lin_model \u001b[38;5;241m=\u001b[39m \u001b[43mLinearRegression\u001b[49m\u001b[43m(\u001b[49m\u001b[43m)\u001b[49m\n\u001b[0;32m     11\u001b[0m lin_model\u001b[38;5;241m.\u001b[39mfit(X_scaled, y)\n",
      "\u001b[1;31mTypeError\u001b[0m: LinearRegression.__new__() missing 2 required positional arguments: 'slope' and 'intercept'"
     ]
    }
   ],
   "source": [
    "# 3. Lineární model\n",
    "from sklearn.preprocessing import StandardScaler\n",
    "from sklearn.linear_model import LinearRegression\n",
    "\n",
    "\n",
    "scaler = StandardScaler()\n",
    "X_scaled = scaler.fit_transform(data[['Size']])\n",
    "y = data['Price']\n",
    "\n",
    "lin_model = LinearRegression()\n",
    "lin_model.fit(X_scaled, y)\n"
   ]
  },
  {
   "cell_type": "markdown",
   "id": "f60da968",
   "metadata": {},
   "source": [
    "# Vytvořte polynominální regresní model\n",
    "- vytvořte model polynominální 1D model se stupni 2 - 8\n",
    "- modely zobrazte\n",
    "- zobrazte jejich parametry\n",
    "- zobrazte jejich skóre\n",
    "- Který model byste vybrali?"
   ]
  }
 ],
 "metadata": {
  "kernelspec": {
   "display_name": "Python 3",
   "language": "python",
   "name": "python3"
  },
  "language_info": {
   "codemirror_mode": {
    "name": "ipython",
    "version": 3
   },
   "file_extension": ".py",
   "mimetype": "text/x-python",
   "name": "python",
   "nbconvert_exporter": "python",
   "pygments_lexer": "ipython3",
   "version": "3.13.2"
  }
 },
 "nbformat": 4,
 "nbformat_minor": 5
}
